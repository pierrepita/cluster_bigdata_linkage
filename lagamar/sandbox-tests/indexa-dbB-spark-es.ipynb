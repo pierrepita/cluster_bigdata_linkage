{
 "cells": [
  {
   "cell_type": "markdown",
   "metadata": {},
   "source": [
    "# Indexando dados no Elasticsearch via Spark\n",
    "\n",
    "Este notebook usa PySpark para:\n",
    "1. Ler um arquivo CSV do HDFS\n",
    "2. Verificar o esquema dos dados\n",
    "3. Indexar os dados no Elasticsearch usando o conector `elasticsearch-hadoop`"
   ]
  },
  {
   "cell_type": "code",
   "execution_count": 1,
   "metadata": {},
   "outputs": [],
   "source": [
    "# !pip install pandas"
   ]
  },
  {
   "cell_type": "code",
   "execution_count": 2,
   "metadata": {},
   "outputs": [],
   "source": [
    "from pyspark.sql import SparkSession"
   ]
  },
  {
   "cell_type": "markdown",
   "metadata": {},
   "source": [
    "## 1. Criando a sessão do Spark com as configs do Elasticsearch\n",
    "Aqui configuramos o Spark para saber onde está o Elasticsearch e como se conectar a ele.\n",
    "Além disso, informamos o endereço do master do cluster Spark."
   ]
  },
  {
   "cell_type": "code",
   "execution_count": 7,
   "metadata": {},
   "outputs": [],
   "source": [
    "spark = SparkSession.builder \\\n",
    "    .appName(\"IndexDatabaseB\") \\\n",
    "    .master(\"spark://barravento:7077\") \\\n",
    "    .config(\"spark.jars.packages\", \"org.elasticsearch:elasticsearch-spark-30_2.12:8.1.3\") \\\n",
    "    .config(\"spark.es.nodes\", \"barravento\") \\\n",
    "    .config(\"spark.es.port\", \"9200\") \\\n",
    "    .config(\"spark.es.nodes.wan.only\", \"false\") \\\n",
    "    .config(\"spark.es.resource\", \"dbb2\") \\\n",
    "    .getOrCreate()"
   ]
  },
  {
   "cell_type": "markdown",
   "metadata": {},
   "source": [
    "## 2. Lendo o arquivo CSV do HDFS\n",
    "O CSV está na pasta `/sandbox` no HDFS. Usamos `header=True` para ler os nomes das colunas."
   ]
  },
  {
   "cell_type": "code",
   "execution_count": 8,
   "metadata": {},
   "outputs": [
    {
     "data": {
      "text/html": [
       "<div>\n",
       "<style scoped>\n",
       "    .dataframe tbody tr th:only-of-type {\n",
       "        vertical-align: middle;\n",
       "    }\n",
       "\n",
       "    .dataframe tbody tr th {\n",
       "        vertical-align: top;\n",
       "    }\n",
       "\n",
       "    .dataframe thead th {\n",
       "        text-align: right;\n",
       "    }\n",
       "</style>\n",
       "<table border=\"1\" class=\"dataframe\">\n",
       "  <thead>\n",
       "    <tr style=\"text-align: right;\">\n",
       "      <th></th>\n",
       "      <th>id</th>\n",
       "      <th>nome</th>\n",
       "      <th>sexo</th>\n",
       "      <th>mae</th>\n",
       "      <th>dn</th>\n",
       "      <th>cidade</th>\n",
       "      <th>end</th>\n",
       "    </tr>\n",
       "  </thead>\n",
       "  <tbody>\n",
       "    <tr>\n",
       "      <th>0</th>\n",
       "      <td>1</td>\n",
       "      <td>JAMILLE YASMIN DA SILVA SILVA</td>\n",
       "      <td>2</td>\n",
       "      <td>ALAICE DE SENA SILVA</td>\n",
       "      <td>2009-04-22</td>\n",
       "      <td>CARACARAI</td>\n",
       "      <td>COMUNIDADE JABUTI</td>\n",
       "    </tr>\n",
       "    <tr>\n",
       "      <th>1</th>\n",
       "      <td>2</td>\n",
       "      <td>GENNILSON DE SOUZA DA SILVA</td>\n",
       "      <td>1</td>\n",
       "      <td>ARLENE DA COSTA BATISTA</td>\n",
       "      <td>2006-11-06</td>\n",
       "      <td>ITABUNA</td>\n",
       "      <td>AV DIQUE 828</td>\n",
       "    </tr>\n",
       "    <tr>\n",
       "      <th>2</th>\n",
       "      <td>3</td>\n",
       "      <td>POLLYANNA BARBOSA DE SOUZA</td>\n",
       "      <td>2</td>\n",
       "      <td>MARIAH GRACIRLENE DO NASCIMENTO</td>\n",
       "      <td>2008-02-19</td>\n",
       "      <td>SAO CRISTOVAO</td>\n",
       "      <td>R M</td>\n",
       "    </tr>\n",
       "  </tbody>\n",
       "</table>\n",
       "</div>"
      ],
      "text/plain": [
       "  id                           nome sexo                              mae  \\\n",
       "0  1  JAMILLE YASMIN DA SILVA SILVA    2             ALAICE DE SENA SILVA   \n",
       "1  2    GENNILSON DE SOUZA DA SILVA    1          ARLENE DA COSTA BATISTA   \n",
       "2  3     POLLYANNA BARBOSA DE SOUZA    2  MARIAH GRACIRLENE DO NASCIMENTO   \n",
       "\n",
       "           dn         cidade                end  \n",
       "0  2009-04-22      CARACARAI  COMUNIDADE JABUTI  \n",
       "1  2006-11-06        ITABUNA       AV DIQUE 828  \n",
       "2  2008-02-19  SAO CRISTOVAO                R M  "
      ]
     },
     "execution_count": 8,
     "metadata": {},
     "output_type": "execute_result"
    }
   ],
   "source": [
    "df = spark.read.option(\"header\", True).csv(\"hdfs://barravento:9000/sandbox/02-databaseB.csv\")\n",
    "df.limit(3).toPandas()"
   ]
  },
  {
   "cell_type": "markdown",
   "metadata": {},
   "source": [
    "## 3. Visualizando o esquema inferido pelo Spark\n",
    "Isso ajuda a confirmar que os dados foram lidos corretamente."
   ]
  },
  {
   "cell_type": "code",
   "execution_count": 9,
   "metadata": {},
   "outputs": [
    {
     "name": "stdout",
     "output_type": "stream",
     "text": [
      "root\n",
      " |-- id: string (nullable = true)\n",
      " |-- nome: string (nullable = true)\n",
      " |-- sexo: string (nullable = true)\n",
      " |-- mae: string (nullable = true)\n",
      " |-- dn: string (nullable = true)\n",
      " |-- cidade: string (nullable = true)\n",
      " |-- end: string (nullable = true)\n",
      "\n"
     ]
    }
   ],
   "source": [
    "df.printSchema()"
   ]
  },
  {
   "cell_type": "markdown",
   "metadata": {},
   "source": [
    "## 4. Enviando os dados para o Elasticsearch\n",
    "Aqui salvamos os dados no índice `dbb`. O modo `overwrite` substitui qualquer dado anterior no índice."
   ]
  },
  {
   "cell_type": "code",
   "execution_count": 10,
   "metadata": {},
   "outputs": [],
   "source": [
    "df.write \\\n",
    "    .format(\"org.elasticsearch.spark.sql\") \\\n",
    "    .option(\"es.resource\", \"dbb2\") \\\n",
    "    .mode(\"overwrite\") \\\n",
    "    .save()"
   ]
  },
  {
   "cell_type": "markdown",
   "metadata": {},
   "source": [
    "## 5. Encerrando a sessão Spark\n",
    "Importante sempre encerrar para liberar recursos!"
   ]
  },
  {
   "cell_type": "code",
   "execution_count": 11,
   "metadata": {},
   "outputs": [],
   "source": [
    "spark.stop()"
   ]
  }
 ],
 "metadata": {
  "kernelspec": {
   "display_name": "Python 3",
   "language": "python",
   "name": "python3"
  },
  "language_info": {
   "codemirror_mode": {
    "name": "ipython",
    "version": 3
   },
   "file_extension": ".py",
   "mimetype": "text/x-python",
   "name": "python",
   "nbconvert_exporter": "python",
   "pygments_lexer": "ipython3",
   "version": "3.6.9"
  }
 },
 "nbformat": 4,
 "nbformat_minor": 2
}
